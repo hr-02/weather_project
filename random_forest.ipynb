{
 "cells": [
  {
   "cell_type": "code",
   "execution_count": 198,
   "id": "2a7f0311",
   "metadata": {},
   "outputs": [],
   "source": [
    "import numpy as np\n",
    "import matplotlib.pyplot as plt\n",
    "import pandas as pd\n",
    "import seaborn as sns"
   ]
  },
  {
   "cell_type": "code",
   "execution_count": 199,
   "id": "987e9187",
   "metadata": {},
   "outputs": [
    {
     "data": {
      "text/html": [
       "<div>\n",
       "<style scoped>\n",
       "    .dataframe tbody tr th:only-of-type {\n",
       "        vertical-align: middle;\n",
       "    }\n",
       "\n",
       "    .dataframe tbody tr th {\n",
       "        vertical-align: top;\n",
       "    }\n",
       "\n",
       "    .dataframe thead th {\n",
       "        text-align: right;\n",
       "    }\n",
       "</style>\n",
       "<table border=\"1\" class=\"dataframe\">\n",
       "  <thead>\n",
       "    <tr style=\"text-align: right;\">\n",
       "      <th></th>\n",
       "      <th>Formatted Date</th>\n",
       "      <th>Summary</th>\n",
       "      <th>Precip Type</th>\n",
       "      <th>Temperature (C)</th>\n",
       "      <th>Apparent Temperature (C)</th>\n",
       "      <th>Humidity</th>\n",
       "      <th>Wind Speed (km/h)</th>\n",
       "      <th>Wind Bearing (degrees)</th>\n",
       "      <th>Visibility (km)</th>\n",
       "      <th>Loud Cover</th>\n",
       "      <th>Pressure (millibars)</th>\n",
       "      <th>Daily Summary</th>\n",
       "    </tr>\n",
       "  </thead>\n",
       "  <tbody>\n",
       "    <tr>\n",
       "      <th>0</th>\n",
       "      <td>2006-04-01 00:00:00.000 +0200</td>\n",
       "      <td>1</td>\n",
       "      <td>26.0</td>\n",
       "      <td>9.472222</td>\n",
       "      <td>7.388889</td>\n",
       "      <td>0.89</td>\n",
       "      <td>14.1197</td>\n",
       "      <td>251</td>\n",
       "      <td>15.8263</td>\n",
       "      <td>0</td>\n",
       "      <td>1015.13</td>\n",
       "      <td>1</td>\n",
       "    </tr>\n",
       "    <tr>\n",
       "      <th>1</th>\n",
       "      <td>2006-04-01 01:00:00.000 +0200</td>\n",
       "      <td>1</td>\n",
       "      <td>26.0</td>\n",
       "      <td>9.355556</td>\n",
       "      <td>7.227778</td>\n",
       "      <td>0.86</td>\n",
       "      <td>14.2646</td>\n",
       "      <td>259</td>\n",
       "      <td>15.8263</td>\n",
       "      <td>0</td>\n",
       "      <td>1015.63</td>\n",
       "      <td>1</td>\n",
       "    </tr>\n",
       "    <tr>\n",
       "      <th>2</th>\n",
       "      <td>2006-04-01 02:00:00.000 +0200</td>\n",
       "      <td>2</td>\n",
       "      <td>26.0</td>\n",
       "      <td>9.377778</td>\n",
       "      <td>9.377778</td>\n",
       "      <td>0.89</td>\n",
       "      <td>3.9284</td>\n",
       "      <td>204</td>\n",
       "      <td>14.9569</td>\n",
       "      <td>0</td>\n",
       "      <td>1015.94</td>\n",
       "      <td>1</td>\n",
       "    </tr>\n",
       "    <tr>\n",
       "      <th>3</th>\n",
       "      <td>2006-04-01 03:00:00.000 +0200</td>\n",
       "      <td>1</td>\n",
       "      <td>26.0</td>\n",
       "      <td>8.288889</td>\n",
       "      <td>5.944444</td>\n",
       "      <td>0.83</td>\n",
       "      <td>14.1036</td>\n",
       "      <td>269</td>\n",
       "      <td>15.8263</td>\n",
       "      <td>0</td>\n",
       "      <td>1016.41</td>\n",
       "      <td>1</td>\n",
       "    </tr>\n",
       "    <tr>\n",
       "      <th>4</th>\n",
       "      <td>2006-04-01 04:00:00.000 +0200</td>\n",
       "      <td>2</td>\n",
       "      <td>26.0</td>\n",
       "      <td>8.755556</td>\n",
       "      <td>6.977778</td>\n",
       "      <td>0.83</td>\n",
       "      <td>11.0446</td>\n",
       "      <td>259</td>\n",
       "      <td>15.8263</td>\n",
       "      <td>0</td>\n",
       "      <td>1016.51</td>\n",
       "      <td>1</td>\n",
       "    </tr>\n",
       "    <tr>\n",
       "      <th>...</th>\n",
       "      <td>...</td>\n",
       "      <td>...</td>\n",
       "      <td>...</td>\n",
       "      <td>...</td>\n",
       "      <td>...</td>\n",
       "      <td>...</td>\n",
       "      <td>...</td>\n",
       "      <td>...</td>\n",
       "      <td>...</td>\n",
       "      <td>...</td>\n",
       "      <td>...</td>\n",
       "      <td>...</td>\n",
       "    </tr>\n",
       "    <tr>\n",
       "      <th>96376</th>\n",
       "      <td>2016-09-09 19:00:00.000 +0200</td>\n",
       "      <td>1</td>\n",
       "      <td>26.0</td>\n",
       "      <td>26.016667</td>\n",
       "      <td>26.016667</td>\n",
       "      <td>0.43</td>\n",
       "      <td>10.9963</td>\n",
       "      <td>31</td>\n",
       "      <td>16.1000</td>\n",
       "      <td>0</td>\n",
       "      <td>1014.36</td>\n",
       "      <td>1</td>\n",
       "    </tr>\n",
       "    <tr>\n",
       "      <th>96377</th>\n",
       "      <td>2016-09-09 20:00:00.000 +0200</td>\n",
       "      <td>1</td>\n",
       "      <td>26.0</td>\n",
       "      <td>24.583333</td>\n",
       "      <td>24.583333</td>\n",
       "      <td>0.48</td>\n",
       "      <td>10.0947</td>\n",
       "      <td>20</td>\n",
       "      <td>15.5526</td>\n",
       "      <td>0</td>\n",
       "      <td>1015.16</td>\n",
       "      <td>1</td>\n",
       "    </tr>\n",
       "    <tr>\n",
       "      <th>96378</th>\n",
       "      <td>2016-09-09 21:00:00.000 +0200</td>\n",
       "      <td>1</td>\n",
       "      <td>26.0</td>\n",
       "      <td>22.038889</td>\n",
       "      <td>22.038889</td>\n",
       "      <td>0.56</td>\n",
       "      <td>8.9838</td>\n",
       "      <td>30</td>\n",
       "      <td>16.1000</td>\n",
       "      <td>0</td>\n",
       "      <td>1015.66</td>\n",
       "      <td>1</td>\n",
       "    </tr>\n",
       "    <tr>\n",
       "      <th>96379</th>\n",
       "      <td>2016-09-09 22:00:00.000 +0200</td>\n",
       "      <td>1</td>\n",
       "      <td>26.0</td>\n",
       "      <td>21.522222</td>\n",
       "      <td>21.522222</td>\n",
       "      <td>0.60</td>\n",
       "      <td>10.5294</td>\n",
       "      <td>20</td>\n",
       "      <td>16.1000</td>\n",
       "      <td>0</td>\n",
       "      <td>1015.95</td>\n",
       "      <td>1</td>\n",
       "    </tr>\n",
       "    <tr>\n",
       "      <th>96380</th>\n",
       "      <td>2016-09-09 23:00:00.000 +0200</td>\n",
       "      <td>1</td>\n",
       "      <td>26.0</td>\n",
       "      <td>20.438889</td>\n",
       "      <td>20.438889</td>\n",
       "      <td>0.61</td>\n",
       "      <td>5.8765</td>\n",
       "      <td>39</td>\n",
       "      <td>15.5204</td>\n",
       "      <td>0</td>\n",
       "      <td>1016.16</td>\n",
       "      <td>1</td>\n",
       "    </tr>\n",
       "  </tbody>\n",
       "</table>\n",
       "<p>96381 rows × 12 columns</p>\n",
       "</div>"
      ],
      "text/plain": [
       "                      Formatted Date  Summary  Precip Type  Temperature (C)  \\\n",
       "0      2006-04-01 00:00:00.000 +0200        1         26.0         9.472222   \n",
       "1      2006-04-01 01:00:00.000 +0200        1         26.0         9.355556   \n",
       "2      2006-04-01 02:00:00.000 +0200        2         26.0         9.377778   \n",
       "3      2006-04-01 03:00:00.000 +0200        1         26.0         8.288889   \n",
       "4      2006-04-01 04:00:00.000 +0200        2         26.0         8.755556   \n",
       "...                              ...      ...          ...              ...   \n",
       "96376  2016-09-09 19:00:00.000 +0200        1         26.0        26.016667   \n",
       "96377  2016-09-09 20:00:00.000 +0200        1         26.0        24.583333   \n",
       "96378  2016-09-09 21:00:00.000 +0200        1         26.0        22.038889   \n",
       "96379  2016-09-09 22:00:00.000 +0200        1         26.0        21.522222   \n",
       "96380  2016-09-09 23:00:00.000 +0200        1         26.0        20.438889   \n",
       "\n",
       "       Apparent Temperature (C)  Humidity  Wind Speed (km/h)  \\\n",
       "0                      7.388889      0.89            14.1197   \n",
       "1                      7.227778      0.86            14.2646   \n",
       "2                      9.377778      0.89             3.9284   \n",
       "3                      5.944444      0.83            14.1036   \n",
       "4                      6.977778      0.83            11.0446   \n",
       "...                         ...       ...                ...   \n",
       "96376                 26.016667      0.43            10.9963   \n",
       "96377                 24.583333      0.48            10.0947   \n",
       "96378                 22.038889      0.56             8.9838   \n",
       "96379                 21.522222      0.60            10.5294   \n",
       "96380                 20.438889      0.61             5.8765   \n",
       "\n",
       "       Wind Bearing (degrees)  Visibility (km)  Loud Cover  \\\n",
       "0                         251          15.8263           0   \n",
       "1                         259          15.8263           0   \n",
       "2                         204          14.9569           0   \n",
       "3                         269          15.8263           0   \n",
       "4                         259          15.8263           0   \n",
       "...                       ...              ...         ...   \n",
       "96376                      31          16.1000           0   \n",
       "96377                      20          15.5526           0   \n",
       "96378                      30          16.1000           0   \n",
       "96379                      20          16.1000           0   \n",
       "96380                      39          15.5204           0   \n",
       "\n",
       "       Pressure (millibars)  Daily Summary  \n",
       "0                   1015.13              1  \n",
       "1                   1015.63              1  \n",
       "2                   1015.94              1  \n",
       "3                   1016.41              1  \n",
       "4                   1016.51              1  \n",
       "...                     ...            ...  \n",
       "96376               1014.36              1  \n",
       "96377               1015.16              1  \n",
       "96378               1015.66              1  \n",
       "96379               1015.95              1  \n",
       "96380               1016.16              1  \n",
       "\n",
       "[96381 rows x 12 columns]"
      ]
     },
     "execution_count": 199,
     "metadata": {},
     "output_type": "execute_result"
    }
   ],
   "source": [
    "ds=pd.read_csv('weather_data.csv')\n",
    "ds"
   ]
  },
  {
   "cell_type": "code",
   "execution_count": 200,
   "id": "72f182a8",
   "metadata": {},
   "outputs": [
    {
     "data": {
      "image/png": "[encoded data removed]",
      "text/plain": [
       "<Figure size 432x288 with 2 Axes>"
      ]
     },
     "metadata": {
      "needs_background": "light"
     },
     "output_type": "display_data"
    }
   ],
   "source": [
    "sns.heatmap(ds.isnull())\n",
    "ds1=ds.dropna()"
   ]
  },
  {
   "cell_type": "code",
   "execution_count": 201,
   "id": "1e6c178f",
   "metadata": {},
   "outputs": [
    {
     "data": {
      "text/plain": [
       "<AxesSubplot:>"
      ]
     },
     "execution_count": 201,
     "metadata": {},
     "output_type": "execute_result"
    },
    {
     "data": {
      "image/png": "[encoded data removed]",
      "text/plain": [
       "<Figure size 432x288 with 2 Axes>"
      ]
     },
     "metadata": {
      "needs_background": "light"
     },
     "output_type": "display_data"
    }
   ],
   "source": [
    "sns.heatmap(ds1.isnull())"
   ]
  },
  {
   "cell_type": "code",
   "execution_count": 202,
   "id": "6b1ca55b",
   "metadata": {},
   "outputs": [],
   "source": [
    "#predict\n",
    "#x=ds1[['MinTemp','MaxTemp','Rainfall','Evaporation','Sunshine','WindGustSpeed','WindSpeed9am','Humidity3pm','Pressure9am','Pressure3pm','Cloud9am','Cloud3pm','Temp9am','Temp3pm',]].values #iloc[:,:-1].values\n",
    "#y=ds1[['RainToday','RainTomorrow']].values\n",
    "\n",
    "#weather_data.csv\n",
    "x=ds1[['Summary','Precip Type','Temperature (C)','Apparent Temperature (C)','Humidity','Wind Speed (km/h)','Wind Bearing (degrees)','Visibility (km)','Loud Cover','Pressure (millibars)']].values\n",
    "y=ds1['Daily Summary'].values\n",
    "\n",
    "\n",
    "#seattle-weather.csv\n",
    "#x=ds1[['precipitation','temp_max','temp_min','wind']].values \n",
    "#y=ds1['weather'].values"
   ]
  },
  {
   "cell_type": "code",
   "execution_count": 203,
   "id": "aa9758a5",
   "metadata": {},
   "outputs": [],
   "source": [
    "from sklearn.model_selection import train_test_split\n",
    "x_train,x_test,y_train,y_test=train_test_split(x,y,test_size=0.3)"
   ]
  },
  {
   "cell_type": "code",
   "execution_count": 204,
   "id": "a80399ff",
   "metadata": {},
   "outputs": [
    {
     "name": "stdout",
     "output_type": "stream",
     "text": [
      "no of rows,column (95864, 10)\n",
      "x_train (67104, 10)\n",
      "x_test (28760, 10)\n",
      "y_train (67104,)\n",
      "y_test (28760,)\n"
     ]
    }
   ],
   "source": [
    "print(\"no of rows,column\",x.shape)\n",
    "print(\"x_train\",x_train.shape)\n",
    "print(\"x_test\",x_test.shape)\n",
    "print(\"y_train\",y_train.shape)\n",
    "print(\"y_test\",y_test.shape)"
   ]
  },
  {
   "cell_type": "code",
   "execution_count": 205,
   "id": "1757895a",
   "metadata": {},
   "outputs": [
    {
     "data": {
      "text/plain": [
       "array([[3.00000000e+00, 2.60000000e+01, 1.28888889e+00, ...,\n",
       "        1.04006000e+01, 0.00000000e+00, 1.01579000e+03],\n",
       "       [1.00000000e+00, 2.60000000e+01, 2.28500000e+01, ...,\n",
       "        1.58263000e+01, 0.00000000e+00, 1.01511000e+03],\n",
       "       [2.00000000e+00, 2.60000000e+01, 1.18611111e+01, ...,\n",
       "        1.55526000e+01, 0.00000000e+00, 1.02226000e+03],\n",
       "       ...,\n",
       "       [1.00000000e+00, 2.60000000e+01, 3.11555556e+01, ...,\n",
       "        1.55526000e+01, 0.00000000e+00, 1.01414000e+03],\n",
       "       [3.00000000e+00, 2.60000000e+01, 1.07055556e+01, ...,\n",
       "        1.40553000e+01, 0.00000000e+00, 1.01576000e+03],\n",
       "       [7.00000000e+00, 2.60000000e+01, 1.71944444e+01, ...,\n",
       "        9.98200000e+00, 0.00000000e+00, 1.01572000e+03]])"
      ]
     },
     "execution_count": 205,
     "metadata": {},
     "output_type": "execute_result"
    }
   ],
   "source": [
    "x_train"
   ]
  },
  {
   "cell_type": "code",
   "execution_count": 206,
   "id": "e908b9c5",
   "metadata": {},
   "outputs": [
    {
     "data": {
      "text/plain": [
       "array([1, 1, 1, ..., 1, 1, 1], dtype=int64)"
      ]
     },
     "execution_count": 206,
     "metadata": {},
     "output_type": "execute_result"
    }
   ],
   "source": [
    "y_train"
   ]
  },
  {
   "cell_type": "code",
   "execution_count": 210,
   "id": "4e3eb0ae",
   "metadata": {},
   "outputs": [],
   "source": [
    "from sklearn.ensemble import RandomForestClassifier\n",
    "model=RandomForestClassifier(n_estimators=95)"
   ]
  },
  {
   "cell_type": "code",
   "execution_count": 211,
   "id": "0370e7f8",
   "metadata": {},
   "outputs": [
    {
     "data": {
      "text/plain": [
       "RandomForestClassifier(n_estimators=95)"
      ]
     },
     "execution_count": 211,
     "metadata": {},
     "output_type": "execute_result"
    }
   ],
   "source": [
    "model.fit(x_train,y_train)"
   ]
  },
  {
   "cell_type": "code",
   "execution_count": 212,
   "id": "9add3da0",
   "metadata": {},
   "outputs": [
    {
     "data": {
      "text/plain": [
       "90.76495132127955"
      ]
     },
     "execution_count": 212,
     "metadata": {},
     "output_type": "execute_result"
    }
   ],
   "source": [
    "model.score(x_test,y_test)*100"
   ]
  },
  {
   "cell_type": "code",
   "execution_count": 213,
   "id": "99ead710",
   "metadata": {},
   "outputs": [],
   "source": [
    "y_predict=model.predict(x_test)"
   ]
  },
  {
   "cell_type": "code",
   "execution_count": 214,
   "id": "88caf7d8",
   "metadata": {},
   "outputs": [],
   "source": [
    "y_test=y_test.reshape(-1,1)\n",
    "y_pred=y_predict.reshape(-1,1)"
   ]
  },
  {
   "cell_type": "code",
   "execution_count": 215,
   "id": "b22821ec",
   "metadata": {},
   "outputs": [],
   "source": [
    "\n",
    "df=np.concatenate((y_test,y_pred),axis=1)\n",
    "dataframe=pd.DataFrame(df,columns=['current weather','prediction of weather'])"
   ]
  },
  {
   "cell_type": "code",
   "execution_count": 216,
   "id": "6701a4ea",
   "metadata": {},
   "outputs": [
    {
     "data": {
      "text/html": [
       "<div>\n",
       "<style scoped>\n",
       "    .dataframe tbody tr th:only-of-type {\n",
       "        vertical-align: middle;\n",
       "    }\n",
       "\n",
       "    .dataframe tbody tr th {\n",
       "        vertical-align: top;\n",
       "    }\n",
       "\n",
       "    .dataframe thead th {\n",
       "        text-align: right;\n",
       "    }\n",
       "</style>\n",
       "<table border=\"1\" class=\"dataframe\">\n",
       "  <thead>\n",
       "    <tr style=\"text-align: right;\">\n",
       "      <th></th>\n",
       "      <th>current weather</th>\n",
       "      <th>prediction of weather</th>\n",
       "    </tr>\n",
       "  </thead>\n",
       "  <tbody>\n",
       "    <tr>\n",
       "      <th>0</th>\n",
       "      <td>1</td>\n",
       "      <td>1</td>\n",
       "    </tr>\n",
       "    <tr>\n",
       "      <th>1</th>\n",
       "      <td>1</td>\n",
       "      <td>1</td>\n",
       "    </tr>\n",
       "    <tr>\n",
       "      <th>2</th>\n",
       "      <td>1</td>\n",
       "      <td>1</td>\n",
       "    </tr>\n",
       "    <tr>\n",
       "      <th>3</th>\n",
       "      <td>1</td>\n",
       "      <td>1</td>\n",
       "    </tr>\n",
       "    <tr>\n",
       "      <th>4</th>\n",
       "      <td>1</td>\n",
       "      <td>1</td>\n",
       "    </tr>\n",
       "    <tr>\n",
       "      <th>...</th>\n",
       "      <td>...</td>\n",
       "      <td>...</td>\n",
       "    </tr>\n",
       "    <tr>\n",
       "      <th>28755</th>\n",
       "      <td>1</td>\n",
       "      <td>1</td>\n",
       "    </tr>\n",
       "    <tr>\n",
       "      <th>28756</th>\n",
       "      <td>1</td>\n",
       "      <td>1</td>\n",
       "    </tr>\n",
       "    <tr>\n",
       "      <th>28757</th>\n",
       "      <td>1</td>\n",
       "      <td>1</td>\n",
       "    </tr>\n",
       "    <tr>\n",
       "      <th>28758</th>\n",
       "      <td>1</td>\n",
       "      <td>1</td>\n",
       "    </tr>\n",
       "    <tr>\n",
       "      <th>28759</th>\n",
       "      <td>1</td>\n",
       "      <td>1</td>\n",
       "    </tr>\n",
       "  </tbody>\n",
       "</table>\n",
       "<p>28760 rows × 2 columns</p>\n",
       "</div>"
      ],
      "text/plain": [
       "       current weather  prediction of weather\n",
       "0                    1                      1\n",
       "1                    1                      1\n",
       "2                    1                      1\n",
       "3                    1                      1\n",
       "4                    1                      1\n",
       "...                ...                    ...\n",
       "28755                1                      1\n",
       "28756                1                      1\n",
       "28757                1                      1\n",
       "28758                1                      1\n",
       "28759                1                      1\n",
       "\n",
       "[28760 rows x 2 columns]"
      ]
     },
     "execution_count": 216,
     "metadata": {},
     "output_type": "execute_result"
    }
   ],
   "source": [
    "dataframe"
   ]
  },
  {
   "cell_type": "code",
   "execution_count": 217,
   "id": "734328cb",
   "metadata": {},
   "outputs": [],
   "source": [
    "from sklearn.metrics import confusion_matrix\n",
    "cm=confusion_matrix(y_test,y_pred)"
   ]
  },
  {
   "cell_type": "code",
   "execution_count": 218,
   "id": "f49afbf3",
   "metadata": {},
   "outputs": [
    {
     "data": {
      "text/plain": [
       "Text(33.0, 0.5, 'true')"
      ]
     },
     "execution_count": 218,
     "metadata": {},
     "output_type": "execute_result"
    },
    {
     "data": {
      "image/png": "[encoded data removed]",
      "text/plain": [
       "<Figure size 432x288 with 2 Axes>"
      ]
     },
     "metadata": {
      "needs_background": "light"
     },
     "output_type": "display_data"
    }
   ],
   "source": [
    "cm=confusion_matrix(y_test,y_pred)\n",
    "sns.heatmap(cm,annot=True)\n",
    "plt.xlabel(\"predicted\")\n",
    "plt.ylabel(\"true\")"
   ]
  },
  {
   "cell_type": "code",
   "execution_count": 219,
   "id": "f83d541b",
   "metadata": {},
   "outputs": [],
   "source": [
    "#from sklearn.svm import SVC\n",
    "from sklearn.model_selection import cross_val_score\n",
    "#clf = SVC(kernel='linear')"
   ]
  },
  {
   "cell_type": "code",
   "execution_count": 220,
   "id": "7c89ad37",
   "metadata": {},
   "outputs": [],
   "source": [
    "#model.fit(x_train,y_train)"
   ]
  },
  {
   "cell_type": "code",
   "execution_count": 221,
   "id": "ef00913e",
   "metadata": {},
   "outputs": [],
   "source": [
    "from sklearn.model_selection import KFold"
   ]
  },
  {
   "cell_type": "code",
   "execution_count": 222,
   "id": "a5ace2d4",
   "metadata": {},
   "outputs": [
    {
     "data": {
      "text/plain": [
       "10"
      ]
     },
     "execution_count": 222,
     "metadata": {},
     "output_type": "execute_result"
    }
   ],
   "source": [
    "kf = KFold(n_splits=10)\n",
    "kf.get_n_splits(x)"
   ]
  },
  {
   "cell_type": "code",
   "execution_count": 223,
   "id": "90e88b2b",
   "metadata": {},
   "outputs": [
    {
     "name": "stdout",
     "output_type": "stream",
     "text": [
      "KFold(n_splits=10, random_state=None, shuffle=False)\n"
     ]
    }
   ],
   "source": [
    "print(kf)"
   ]
  },
  {
   "cell_type": "code",
   "execution_count": 224,
   "id": "1b49f333",
   "metadata": {
    "scrolled": true
   },
   "outputs": [
    {
     "name": "stdout",
     "output_type": "stream",
     "text": [
      "TRAIN: [ 9587  9588  9589 ... 95861 95862 95863] TEST: [   0    1    2 ... 9584 9585 9586]\n",
      "TRAIN: [    0     1     2 ... 95861 95862 95863] TEST: [ 9587  9588  9589 ... 19171 19172 19173]\n",
      "TRAIN: [    0     1     2 ... 95861 95862 95863] TEST: [19174 19175 19176 ... 28758 28759 28760]\n",
      "TRAIN: [    0     1     2 ... 95861 95862 95863] TEST: [28761 28762 28763 ... 38345 38346 38347]\n",
      "TRAIN: [    0     1     2 ... 95861 95862 95863] TEST: [38348 38349 38350 ... 47931 47932 47933]\n",
      "TRAIN: [    0     1     2 ... 95861 95862 95863] TEST: [47934 47935 47936 ... 57517 57518 57519]\n",
      "TRAIN: [    0     1     2 ... 95861 95862 95863] TEST: [57520 57521 57522 ... 67103 67104 67105]\n",
      "TRAIN: [    0     1     2 ... 95861 95862 95863] TEST: [67106 67107 67108 ... 76689 76690 76691]\n",
      "TRAIN: [    0     1     2 ... 95861 95862 95863] TEST: [76692 76693 76694 ... 86275 86276 86277]\n",
      "TRAIN: [    0     1     2 ... 86275 86276 86277] TEST: [86278 86279 86280 ... 95861 95862 95863]\n"
     ]
    }
   ],
   "source": [
    "for train_index, test_index in kf.split(x):\n",
    "    print(\"TRAIN:\", train_index, \"TEST:\", test_index)\n",
    "    x_train, x_test = x[train_index], x[test_index]\n",
    "    y_train, y_test = y[train_index], y[test_index]"
   ]
  },
  {
   "cell_type": "code",
   "execution_count": 225,
   "id": "427007d6",
   "metadata": {},
   "outputs": [],
   "source": [
    "score=cross_val_score(model,x,y,cv=kf)"
   ]
  },
  {
   "cell_type": "code",
   "execution_count": 226,
   "id": "432f2052",
   "metadata": {},
   "outputs": [
    {
     "name": "stdout",
     "output_type": "stream",
     "text": [
      "Cross Validation scores are[0.86147909 0.88077605 0.88901638 0.86127047 0.83653244 0.86647194\n",
      " 0.88597955 0.88817025 0.88264135 0.90308784]\n"
     ]
    }
   ],
   "source": [
    "print(\"Cross Validation scores are{}\".format(score))"
   ]
  },
  {
   "cell_type": "code",
   "execution_count": 197,
   "id": "c50a50b7",
   "metadata": {},
   "outputs": [
    {
     "data": {
      "text/plain": [
       "0.6856381784908457"
      ]
     },
     "execution_count": 197,
     "metadata": {},
     "output_type": "execute_result"
    }
   ],
   "source": [
    "Avg=score.mean()\n",
    "Avg"
   ]
  },
  {
   "cell_type": "code",
   "execution_count": 99,
   "id": "2a54c1aa",
   "metadata": {},
   "outputs": [
    {
     "data": {
      "text/html": [
       "<div>\n",
       "<style scoped>\n",
       "    .dataframe tbody tr th:only-of-type {\n",
       "        vertical-align: middle;\n",
       "    }\n",
       "\n",
       "    .dataframe tbody tr th {\n",
       "        vertical-align: top;\n",
       "    }\n",
       "\n",
       "    .dataframe thead th {\n",
       "        text-align: right;\n",
       "    }\n",
       "</style>\n",
       "<table border=\"1\" class=\"dataframe\">\n",
       "  <thead>\n",
       "    <tr style=\"text-align: right;\">\n",
       "      <th></th>\n",
       "      <th>date</th>\n",
       "      <th>precipitation</th>\n",
       "      <th>temp_max</th>\n",
       "      <th>temp_min</th>\n",
       "      <th>wind</th>\n",
       "      <th>weather</th>\n",
       "    </tr>\n",
       "  </thead>\n",
       "  <tbody>\n",
       "    <tr>\n",
       "      <th>1456</th>\n",
       "      <td>27-12-2015</td>\n",
       "      <td>8.6</td>\n",
       "      <td>4.4</td>\n",
       "      <td>1.7</td>\n",
       "      <td>2.9</td>\n",
       "      <td>2</td>\n",
       "    </tr>\n",
       "    <tr>\n",
       "      <th>1457</th>\n",
       "      <td>28-12-2015</td>\n",
       "      <td>1.5</td>\n",
       "      <td>5.0</td>\n",
       "      <td>1.7</td>\n",
       "      <td>1.3</td>\n",
       "      <td>2</td>\n",
       "    </tr>\n",
       "    <tr>\n",
       "      <th>1458</th>\n",
       "      <td>29-12-2015</td>\n",
       "      <td>0.0</td>\n",
       "      <td>7.2</td>\n",
       "      <td>0.6</td>\n",
       "      <td>2.6</td>\n",
       "      <td>5</td>\n",
       "    </tr>\n",
       "    <tr>\n",
       "      <th>1459</th>\n",
       "      <td>30-12-2015</td>\n",
       "      <td>0.0</td>\n",
       "      <td>5.6</td>\n",
       "      <td>-1.0</td>\n",
       "      <td>3.4</td>\n",
       "      <td>3</td>\n",
       "    </tr>\n",
       "    <tr>\n",
       "      <th>1460</th>\n",
       "      <td>31-12-2015</td>\n",
       "      <td>0.0</td>\n",
       "      <td>5.6</td>\n",
       "      <td>-2.1</td>\n",
       "      <td>3.5</td>\n",
       "      <td>3</td>\n",
       "    </tr>\n",
       "  </tbody>\n",
       "</table>\n",
       "</div>"
      ],
      "text/plain": [
       "            date  precipitation  temp_max  temp_min  wind  weather\n",
       "1456  27-12-2015            8.6       4.4       1.7   2.9        2\n",
       "1457  28-12-2015            1.5       5.0       1.7   1.3        2\n",
       "1458  29-12-2015            0.0       7.2       0.6   2.6        5\n",
       "1459  30-12-2015            0.0       5.6      -1.0   3.4        3\n",
       "1460  31-12-2015            0.0       5.6      -2.1   3.5        3"
      ]
     },
     "execution_count": 99,
     "metadata": {},
     "output_type": "execute_result"
    }
   ],
   "source": [
    "ds1.tail()"
   ]
  },
  {
   "cell_type": "code",
   "execution_count": 100,
   "id": "33d22ff8",
   "metadata": {},
   "outputs": [
    {
     "data": {
      "text/html": [
       "<div>\n",
       "<style scoped>\n",
       "    .dataframe tbody tr th:only-of-type {\n",
       "        vertical-align: middle;\n",
       "    }\n",
       "\n",
       "    .dataframe tbody tr th {\n",
       "        vertical-align: top;\n",
       "    }\n",
       "\n",
       "    .dataframe thead th {\n",
       "        text-align: right;\n",
       "    }\n",
       "</style>\n",
       "<table border=\"1\" class=\"dataframe\">\n",
       "  <thead>\n",
       "    <tr style=\"text-align: right;\">\n",
       "      <th></th>\n",
       "      <th>date</th>\n",
       "      <th>precipitation</th>\n",
       "      <th>temp_max</th>\n",
       "      <th>temp_min</th>\n",
       "      <th>wind</th>\n",
       "      <th>weather</th>\n",
       "    </tr>\n",
       "  </thead>\n",
       "  <tbody>\n",
       "    <tr>\n",
       "      <th>0</th>\n",
       "      <td>1/1/2012</td>\n",
       "      <td>0.0</td>\n",
       "      <td>12.8</td>\n",
       "      <td>5.0</td>\n",
       "      <td>4.7</td>\n",
       "      <td>1</td>\n",
       "    </tr>\n",
       "    <tr>\n",
       "      <th>1</th>\n",
       "      <td>2/1/2012</td>\n",
       "      <td>10.9</td>\n",
       "      <td>10.6</td>\n",
       "      <td>2.8</td>\n",
       "      <td>4.5</td>\n",
       "      <td>2</td>\n",
       "    </tr>\n",
       "    <tr>\n",
       "      <th>2</th>\n",
       "      <td>3/1/2012</td>\n",
       "      <td>0.8</td>\n",
       "      <td>11.7</td>\n",
       "      <td>7.2</td>\n",
       "      <td>2.3</td>\n",
       "      <td>2</td>\n",
       "    </tr>\n",
       "    <tr>\n",
       "      <th>3</th>\n",
       "      <td>4/1/2012</td>\n",
       "      <td>20.3</td>\n",
       "      <td>12.2</td>\n",
       "      <td>5.6</td>\n",
       "      <td>4.7</td>\n",
       "      <td>2</td>\n",
       "    </tr>\n",
       "    <tr>\n",
       "      <th>4</th>\n",
       "      <td>5/1/2012</td>\n",
       "      <td>1.3</td>\n",
       "      <td>8.9</td>\n",
       "      <td>2.8</td>\n",
       "      <td>6.1</td>\n",
       "      <td>2</td>\n",
       "    </tr>\n",
       "    <tr>\n",
       "      <th>...</th>\n",
       "      <td>...</td>\n",
       "      <td>...</td>\n",
       "      <td>...</td>\n",
       "      <td>...</td>\n",
       "      <td>...</td>\n",
       "      <td>...</td>\n",
       "    </tr>\n",
       "    <tr>\n",
       "      <th>1455</th>\n",
       "      <td>26-12-2015</td>\n",
       "      <td>0.0</td>\n",
       "      <td>4.4</td>\n",
       "      <td>0.0</td>\n",
       "      <td>2.5</td>\n",
       "      <td>3</td>\n",
       "    </tr>\n",
       "    <tr>\n",
       "      <th>1456</th>\n",
       "      <td>27-12-2015</td>\n",
       "      <td>8.6</td>\n",
       "      <td>4.4</td>\n",
       "      <td>1.7</td>\n",
       "      <td>2.9</td>\n",
       "      <td>2</td>\n",
       "    </tr>\n",
       "    <tr>\n",
       "      <th>1457</th>\n",
       "      <td>28-12-2015</td>\n",
       "      <td>1.5</td>\n",
       "      <td>5.0</td>\n",
       "      <td>1.7</td>\n",
       "      <td>1.3</td>\n",
       "      <td>2</td>\n",
       "    </tr>\n",
       "    <tr>\n",
       "      <th>1458</th>\n",
       "      <td>29-12-2015</td>\n",
       "      <td>0.0</td>\n",
       "      <td>7.2</td>\n",
       "      <td>0.6</td>\n",
       "      <td>2.6</td>\n",
       "      <td>5</td>\n",
       "    </tr>\n",
       "    <tr>\n",
       "      <th>1459</th>\n",
       "      <td>30-12-2015</td>\n",
       "      <td>0.0</td>\n",
       "      <td>5.6</td>\n",
       "      <td>-1.0</td>\n",
       "      <td>3.4</td>\n",
       "      <td>3</td>\n",
       "    </tr>\n",
       "  </tbody>\n",
       "</table>\n",
       "<p>1460 rows × 6 columns</p>\n",
       "</div>"
      ],
      "text/plain": [
       "            date  precipitation  temp_max  temp_min  wind  weather\n",
       "0       1/1/2012            0.0      12.8       5.0   4.7        1\n",
       "1       2/1/2012           10.9      10.6       2.8   4.5        2\n",
       "2       3/1/2012            0.8      11.7       7.2   2.3        2\n",
       "3       4/1/2012           20.3      12.2       5.6   4.7        2\n",
       "4       5/1/2012            1.3       8.9       2.8   6.1        2\n",
       "...          ...            ...       ...       ...   ...      ...\n",
       "1455  26-12-2015            0.0       4.4       0.0   2.5        3\n",
       "1456  27-12-2015            8.6       4.4       1.7   2.9        2\n",
       "1457  28-12-2015            1.5       5.0       1.7   1.3        2\n",
       "1458  29-12-2015            0.0       7.2       0.6   2.6        5\n",
       "1459  30-12-2015            0.0       5.6      -1.0   3.4        3\n",
       "\n",
       "[1460 rows x 6 columns]"
      ]
     },
     "execution_count": 100,
     "metadata": {},
     "output_type": "execute_result"
    }
   ],
   "source": [
    "tp1=ds1.iloc[0:1460]\n",
    "tp1"
   ]
  },
  {
   "cell_type": "code",
   "execution_count": 101,
   "id": "204ab505",
   "metadata": {},
   "outputs": [],
   "source": [
    "x2=tp1[['precipitation','temp_max','temp_min','wind']].values \n",
    "y2=tp1[['weather']].values"
   ]
  },
  {
   "cell_type": "code",
   "execution_count": 102,
   "id": "f31e6061",
   "metadata": {},
   "outputs": [
    {
     "data": {
      "text/plain": [
       "array([[ 0. , 12.8,  5. ,  4.7],\n",
       "       [10.9, 10.6,  2.8,  4.5],\n",
       "       [ 0.8, 11.7,  7.2,  2.3],\n",
       "       ...,\n",
       "       [ 1.5,  5. ,  1.7,  1.3],\n",
       "       [ 0. ,  7.2,  0.6,  2.6],\n",
       "       [ 0. ,  5.6, -1. ,  3.4]])"
      ]
     },
     "execution_count": 102,
     "metadata": {},
     "output_type": "execute_result"
    }
   ],
   "source": [
    "x2"
   ]
  },
  {
   "cell_type": "code",
   "execution_count": 103,
   "id": "1ca6d26d",
   "metadata": {},
   "outputs": [
    {
     "data": {
      "text/plain": [
       "array([[1],\n",
       "       [2],\n",
       "       [2],\n",
       "       ...,\n",
       "       [2],\n",
       "       [5],\n",
       "       [3]], dtype=int64)"
      ]
     },
     "execution_count": 103,
     "metadata": {},
     "output_type": "execute_result"
    }
   ],
   "source": [
    "y2"
   ]
  },
  {
   "cell_type": "code",
   "execution_count": 104,
   "id": "d97e3662",
   "metadata": {},
   "outputs": [
    {
     "data": {
      "text/html": [
       "<div>\n",
       "<style scoped>\n",
       "    .dataframe tbody tr th:only-of-type {\n",
       "        vertical-align: middle;\n",
       "    }\n",
       "\n",
       "    .dataframe tbody tr th {\n",
       "        vertical-align: top;\n",
       "    }\n",
       "\n",
       "    .dataframe thead th {\n",
       "        text-align: right;\n",
       "    }\n",
       "</style>\n",
       "<table border=\"1\" class=\"dataframe\">\n",
       "  <thead>\n",
       "    <tr style=\"text-align: right;\">\n",
       "      <th></th>\n",
       "      <th>date</th>\n",
       "      <th>precipitation</th>\n",
       "      <th>temp_max</th>\n",
       "      <th>temp_min</th>\n",
       "      <th>wind</th>\n",
       "      <th>weather</th>\n",
       "    </tr>\n",
       "  </thead>\n",
       "  <tbody>\n",
       "    <tr>\n",
       "      <th>1460</th>\n",
       "      <td>31-12-2015</td>\n",
       "      <td>0.0</td>\n",
       "      <td>5.6</td>\n",
       "      <td>-2.1</td>\n",
       "      <td>3.5</td>\n",
       "      <td>3</td>\n",
       "    </tr>\n",
       "  </tbody>\n",
       "</table>\n",
       "</div>"
      ],
      "text/plain": [
       "            date  precipitation  temp_max  temp_min  wind  weather\n",
       "1460  31-12-2015            0.0       5.6      -2.1   3.5        3"
      ]
     },
     "execution_count": 104,
     "metadata": {},
     "output_type": "execute_result"
    }
   ],
   "source": [
    "tp=ds1.tail(1)#iloc[1460:1461]\n",
    "tp\n"
   ]
  },
  {
   "cell_type": "code",
   "execution_count": 105,
   "id": "78f0f52d",
   "metadata": {},
   "outputs": [],
   "source": [
    "x1=tp[['precipitation','temp_max','temp_min','wind']].values \n",
    "y1=tp[['weather']].values"
   ]
  },
  {
   "cell_type": "code",
   "execution_count": 106,
   "id": "638b938b",
   "metadata": {},
   "outputs": [
    {
     "data": {
      "text/plain": [
       "array([[ 0. ,  5.6, -2.1,  3.5]])"
      ]
     },
     "execution_count": 106,
     "metadata": {},
     "output_type": "execute_result"
    }
   ],
   "source": [
    "x1"
   ]
  },
  {
   "cell_type": "code",
   "execution_count": 107,
   "id": "517ce10c",
   "metadata": {},
   "outputs": [
    {
     "data": {
      "text/plain": [
       "array([[3]], dtype=int64)"
      ]
     },
     "execution_count": 107,
     "metadata": {},
     "output_type": "execute_result"
    }
   ],
   "source": [
    "y1"
   ]
  },
  {
   "cell_type": "code",
   "execution_count": 108,
   "id": "0d45ad2e",
   "metadata": {},
   "outputs": [
    {
     "name": "stdout",
     "output_type": "stream",
     "text": [
      "x_train (1460, 4)\n",
      "x_test (1, 4)\n",
      "y_train (1460, 1)\n",
      "y_test (1, 1)\n"
     ]
    }
   ],
   "source": [
    "print(\"x_train\",x2.shape)\n",
    "print(\"x_test\",x1.shape)\n",
    "print(\"y_train\",y2.shape)\n",
    "print(\"y_test\",y1.shape)"
   ]
  },
  {
   "cell_type": "code",
   "execution_count": 109,
   "id": "524933dd",
   "metadata": {},
   "outputs": [
    {
     "name": "stderr",
     "output_type": "stream",
     "text": [
      "C:\\Users\\RUPAK\\AppData\\Local\\Temp/ipykernel_584/1184512589.py:1: DataConversionWarning: A column-vector y was passed when a 1d array was expected. Please change the shape of y to (n_samples,), for example using ravel().\n",
      "  model.fit(x2,y2)\n"
     ]
    },
    {
     "data": {
      "text/plain": [
       "RandomForestClassifier(n_estimators=95)"
      ]
     },
     "execution_count": 109,
     "metadata": {},
     "output_type": "execute_result"
    }
   ],
   "source": [
    "model.fit(x2,y2)"
   ]
  },
  {
   "cell_type": "code",
   "execution_count": 110,
   "id": "b5cf8cd1",
   "metadata": {},
   "outputs": [
    {
     "data": {
      "text/plain": [
       "100.0"
      ]
     },
     "execution_count": 110,
     "metadata": {},
     "output_type": "execute_result"
    }
   ],
   "source": [
    "model.score(x1,y1)*100"
   ]
  },
  {
   "cell_type": "code",
   "execution_count": 111,
   "id": "e67ec546",
   "metadata": {},
   "outputs": [],
   "source": [
    "y_predict1=model.predict(x1)"
   ]
  },
  {
   "cell_type": "code",
   "execution_count": 112,
   "id": "1585f4ca",
   "metadata": {},
   "outputs": [],
   "source": [
    "y1=y1.reshape(-1,1)\n",
    "y1_pred=y_predict1.reshape(-1,1)"
   ]
  },
  {
   "cell_type": "code",
   "execution_count": 113,
   "id": "91c8de7a",
   "metadata": {},
   "outputs": [
    {
     "data": {
      "text/plain": [
       "array([3], dtype=int64)"
      ]
     },
     "execution_count": 113,
     "metadata": {},
     "output_type": "execute_result"
    }
   ],
   "source": [
    "y_predict1"
   ]
  },
  {
   "cell_type": "code",
   "execution_count": 114,
   "id": "ba7e4728",
   "metadata": {},
   "outputs": [],
   "source": [
    "#y1_pred=y_predict1.reshape(-1,1)\n",
    "tp=np.concatenate((y1,y1_pred),axis=1)\n",
    "dataframe1=pd.DataFrame(tp,columns=['current weather','prediction of weather'])\n"
   ]
  },
  {
   "cell_type": "code",
   "execution_count": 115,
   "id": "e03ee719",
   "metadata": {},
   "outputs": [
    {
     "name": "stdout",
     "output_type": "stream",
     "text": [
      "the current weather is :\n",
      "sunny\n"
     ]
    }
   ],
   "source": [
    "print(\"the current weather is :\")\n",
    "if y1_pred==1:\n",
    "    print(\"drizzle\")\n",
    "elif y1_pred==2:\n",
    "    print(\"rainy\")\n",
    "elif y1_pred==3:\n",
    "    print(\"sunny\")\n",
    "elif y1_pred==4:\n",
    "    print(\"snowy\")\n",
    "elif y1_pred==5:\n",
    "    print(\"foggy\")    \n"
   ]
  },
  {
   "cell_type": "code",
   "execution_count": null,
   "id": "e2a3c90e",
   "metadata": {},
   "outputs": [],
   "source": []
  },
  {
   "cell_type": "code",
   "execution_count": null,
   "id": "d0202dd0",
   "metadata": {},
   "outputs": [],
   "source": []
  },
  {
   "cell_type": "code",
   "execution_count": null,
   "id": "feb97a3e",
   "metadata": {},
   "outputs": [],
   "source": []
  }
 ],
 "metadata": {
  "kernelspec": {
   "display_name": "Python 3 (ipykernel)",
   "language": "python",
   "name": "python3"
  },
  "language_info": {
   "codemirror_mode": {
    "name": "ipython",
    "version": 3
   },
   "file_extension": ".py",
   "mimetype": "text/x-python",
   "name": "python",
   "nbconvert_exporter": "python",
   "pygments_lexer": "ipython3",
   "version": "3.9.7"
  }
 },
 "nbformat": 4,
 "nbformat_minor": 5
}
