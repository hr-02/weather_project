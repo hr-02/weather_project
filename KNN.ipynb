{
 "cells": [
  {
   "cell_type": "code",
   "execution_count": 1,
   "id": "32a2083d",
   "metadata": {},
   "outputs": [],
   "source": [
    "import numpy as np\n",
    "import matplotlib.pyplot as plt\n",
    "import pandas as pd\n",
    "import seaborn as sns"
   ]
  },
  {
   "cell_type": "code",
   "execution_count": 41,
   "id": "761e81e3",
   "metadata": {},
   "outputs": [
    {
     "data": {
      "text/html": [
       "<div>\n",
       "<style scoped>\n",
       "    .dataframe tbody tr th:only-of-type {\n",
       "        vertical-align: middle;\n",
       "    }\n",
       "\n",
       "    .dataframe tbody tr th {\n",
       "        vertical-align: top;\n",
       "    }\n",
       "\n",
       "    .dataframe thead th {\n",
       "        text-align: right;\n",
       "    }\n",
       "</style>\n",
       "<table border=\"1\" class=\"dataframe\">\n",
       "  <thead>\n",
       "    <tr style=\"text-align: right;\">\n",
       "      <th></th>\n",
       "      <th>Formatted Date</th>\n",
       "      <th>Summary</th>\n",
       "      <th>Precip Type</th>\n",
       "      <th>Temperature (C)</th>\n",
       "      <th>Apparent Temperature (C)</th>\n",
       "      <th>Humidity</th>\n",
       "      <th>Wind Speed (km/h)</th>\n",
       "      <th>Wind Bearing (degrees)</th>\n",
       "      <th>Visibility (km)</th>\n",
       "      <th>Loud Cover</th>\n",
       "      <th>Pressure (millibars)</th>\n",
       "      <th>Daily Summary</th>\n",
       "    </tr>\n",
       "  </thead>\n",
       "  <tbody>\n",
       "    <tr>\n",
       "      <th>0</th>\n",
       "      <td>2006-04-01 00:00:00.000 +0200</td>\n",
       "      <td>1</td>\n",
       "      <td>26.0</td>\n",
       "      <td>9.472222</td>\n",
       "      <td>7.388889</td>\n",
       "      <td>0.89</td>\n",
       "      <td>14.1197</td>\n",
       "      <td>251</td>\n",
       "      <td>15.8263</td>\n",
       "      <td>0</td>\n",
       "      <td>1015.13</td>\n",
       "      <td>1</td>\n",
       "    </tr>\n",
       "    <tr>\n",
       "      <th>1</th>\n",
       "      <td>2006-04-01 01:00:00.000 +0200</td>\n",
       "      <td>1</td>\n",
       "      <td>26.0</td>\n",
       "      <td>9.355556</td>\n",
       "      <td>7.227778</td>\n",
       "      <td>0.86</td>\n",
       "      <td>14.2646</td>\n",
       "      <td>259</td>\n",
       "      <td>15.8263</td>\n",
       "      <td>0</td>\n",
       "      <td>1015.63</td>\n",
       "      <td>1</td>\n",
       "    </tr>\n",
       "    <tr>\n",
       "      <th>2</th>\n",
       "      <td>2006-04-01 02:00:00.000 +0200</td>\n",
       "      <td>2</td>\n",
       "      <td>26.0</td>\n",
       "      <td>9.377778</td>\n",
       "      <td>9.377778</td>\n",
       "      <td>0.89</td>\n",
       "      <td>3.9284</td>\n",
       "      <td>204</td>\n",
       "      <td>14.9569</td>\n",
       "      <td>0</td>\n",
       "      <td>1015.94</td>\n",
       "      <td>1</td>\n",
       "    </tr>\n",
       "    <tr>\n",
       "      <th>3</th>\n",
       "      <td>2006-04-01 03:00:00.000 +0200</td>\n",
       "      <td>1</td>\n",
       "      <td>26.0</td>\n",
       "      <td>8.288889</td>\n",
       "      <td>5.944444</td>\n",
       "      <td>0.83</td>\n",
       "      <td>14.1036</td>\n",
       "      <td>269</td>\n",
       "      <td>15.8263</td>\n",
       "      <td>0</td>\n",
       "      <td>1016.41</td>\n",
       "      <td>1</td>\n",
       "    </tr>\n",
       "    <tr>\n",
       "      <th>4</th>\n",
       "      <td>2006-04-01 04:00:00.000 +0200</td>\n",
       "      <td>2</td>\n",
       "      <td>26.0</td>\n",
       "      <td>8.755556</td>\n",
       "      <td>6.977778</td>\n",
       "      <td>0.83</td>\n",
       "      <td>11.0446</td>\n",
       "      <td>259</td>\n",
       "      <td>15.8263</td>\n",
       "      <td>0</td>\n",
       "      <td>1016.51</td>\n",
       "      <td>1</td>\n",
       "    </tr>\n",
       "    <tr>\n",
       "      <th>...</th>\n",
       "      <td>...</td>\n",
       "      <td>...</td>\n",
       "      <td>...</td>\n",
       "      <td>...</td>\n",
       "      <td>...</td>\n",
       "      <td>...</td>\n",
       "      <td>...</td>\n",
       "      <td>...</td>\n",
       "      <td>...</td>\n",
       "      <td>...</td>\n",
       "      <td>...</td>\n",
       "      <td>...</td>\n",
       "    </tr>\n",
       "    <tr>\n",
       "      <th>96376</th>\n",
       "      <td>2016-09-09 19:00:00.000 +0200</td>\n",
       "      <td>1</td>\n",
       "      <td>26.0</td>\n",
       "      <td>26.016667</td>\n",
       "      <td>26.016667</td>\n",
       "      <td>0.43</td>\n",
       "      <td>10.9963</td>\n",
       "      <td>31</td>\n",
       "      <td>16.1000</td>\n",
       "      <td>0</td>\n",
       "      <td>1014.36</td>\n",
       "      <td>1</td>\n",
       "    </tr>\n",
       "    <tr>\n",
       "      <th>96377</th>\n",
       "      <td>2016-09-09 20:00:00.000 +0200</td>\n",
       "      <td>1</td>\n",
       "      <td>26.0</td>\n",
       "      <td>24.583333</td>\n",
       "      <td>24.583333</td>\n",
       "      <td>0.48</td>\n",
       "      <td>10.0947</td>\n",
       "      <td>20</td>\n",
       "      <td>15.5526</td>\n",
       "      <td>0</td>\n",
       "      <td>1015.16</td>\n",
       "      <td>1</td>\n",
       "    </tr>\n",
       "    <tr>\n",
       "      <th>96378</th>\n",
       "      <td>2016-09-09 21:00:00.000 +0200</td>\n",
       "      <td>1</td>\n",
       "      <td>26.0</td>\n",
       "      <td>22.038889</td>\n",
       "      <td>22.038889</td>\n",
       "      <td>0.56</td>\n",
       "      <td>8.9838</td>\n",
       "      <td>30</td>\n",
       "      <td>16.1000</td>\n",
       "      <td>0</td>\n",
       "      <td>1015.66</td>\n",
       "      <td>1</td>\n",
       "    </tr>\n",
       "    <tr>\n",
       "      <th>96379</th>\n",
       "      <td>2016-09-09 22:00:00.000 +0200</td>\n",
       "      <td>1</td>\n",
       "      <td>26.0</td>\n",
       "      <td>21.522222</td>\n",
       "      <td>21.522222</td>\n",
       "      <td>0.60</td>\n",
       "      <td>10.5294</td>\n",
       "      <td>20</td>\n",
       "      <td>16.1000</td>\n",
       "      <td>0</td>\n",
       "      <td>1015.95</td>\n",
       "      <td>1</td>\n",
       "    </tr>\n",
       "    <tr>\n",
       "      <th>96380</th>\n",
       "      <td>2016-09-09 23:00:00.000 +0200</td>\n",
       "      <td>1</td>\n",
       "      <td>26.0</td>\n",
       "      <td>20.438889</td>\n",
       "      <td>20.438889</td>\n",
       "      <td>0.61</td>\n",
       "      <td>5.8765</td>\n",
       "      <td>39</td>\n",
       "      <td>15.5204</td>\n",
       "      <td>0</td>\n",
       "      <td>1016.16</td>\n",
       "      <td>1</td>\n",
       "    </tr>\n",
       "  </tbody>\n",
       "</table>\n",
       "<p>96381 rows × 12 columns</p>\n",
       "</div>"
      ],
      "text/plain": [
       "                      Formatted Date  Summary  Precip Type  Temperature (C)  \\\n",
       "0      2006-04-01 00:00:00.000 +0200        1         26.0         9.472222   \n",
       "1      2006-04-01 01:00:00.000 +0200        1         26.0         9.355556   \n",
       "2      2006-04-01 02:00:00.000 +0200        2         26.0         9.377778   \n",
       "3      2006-04-01 03:00:00.000 +0200        1         26.0         8.288889   \n",
       "4      2006-04-01 04:00:00.000 +0200        2         26.0         8.755556   \n",
       "...                              ...      ...          ...              ...   \n",
       "96376  2016-09-09 19:00:00.000 +0200        1         26.0        26.016667   \n",
       "96377  2016-09-09 20:00:00.000 +0200        1         26.0        24.583333   \n",
       "96378  2016-09-09 21:00:00.000 +0200        1         26.0        22.038889   \n",
       "96379  2016-09-09 22:00:00.000 +0200        1         26.0        21.522222   \n",
       "96380  2016-09-09 23:00:00.000 +0200        1         26.0        20.438889   \n",
       "\n",
       "       Apparent Temperature (C)  Humidity  Wind Speed (km/h)  \\\n",
       "0                      7.388889      0.89            14.1197   \n",
       "1                      7.227778      0.86            14.2646   \n",
       "2                      9.377778      0.89             3.9284   \n",
       "3                      5.944444      0.83            14.1036   \n",
       "4                      6.977778      0.83            11.0446   \n",
       "...                         ...       ...                ...   \n",
       "96376                 26.016667      0.43            10.9963   \n",
       "96377                 24.583333      0.48            10.0947   \n",
       "96378                 22.038889      0.56             8.9838   \n",
       "96379                 21.522222      0.60            10.5294   \n",
       "96380                 20.438889      0.61             5.8765   \n",
       "\n",
       "       Wind Bearing (degrees)  Visibility (km)  Loud Cover  \\\n",
       "0                         251          15.8263           0   \n",
       "1                         259          15.8263           0   \n",
       "2                         204          14.9569           0   \n",
       "3                         269          15.8263           0   \n",
       "4                         259          15.8263           0   \n",
       "...                       ...              ...         ...   \n",
       "96376                      31          16.1000           0   \n",
       "96377                      20          15.5526           0   \n",
       "96378                      30          16.1000           0   \n",
       "96379                      20          16.1000           0   \n",
       "96380                      39          15.5204           0   \n",
       "\n",
       "       Pressure (millibars)  Daily Summary  \n",
       "0                   1015.13              1  \n",
       "1                   1015.63              1  \n",
       "2                   1015.94              1  \n",
       "3                   1016.41              1  \n",
       "4                   1016.51              1  \n",
       "...                     ...            ...  \n",
       "96376               1014.36              1  \n",
       "96377               1015.16              1  \n",
       "96378               1015.66              1  \n",
       "96379               1015.95              1  \n",
       "96380               1016.16              1  \n",
       "\n",
       "[96381 rows x 12 columns]"
      ]
     },
     "execution_count": 41,
     "metadata": {},
     "output_type": "execute_result"
    }
   ],
   "source": [
    "ds=pd.read_csv('weather_data.csv')\n",
    "ds"
   ]
  },
  {
   "cell_type": "code",
   "execution_count": 42,
   "id": "4406f216",
   "metadata": {},
   "outputs": [
    {
     "data": {
      "image/png": "[encoded data removed]",
      "text/plain": [
       "<Figure size 432x288 with 2 Axes>"
      ]
     },
     "metadata": {
      "needs_background": "light"
     },
     "output_type": "display_data"
    }
   ],
   "source": [
    "sns.heatmap(ds.isnull())\n",
    "ds1=ds.dropna()"
   ]
  },
  {
   "cell_type": "code",
   "execution_count": 43,
   "id": "7b3fc78a",
   "metadata": {},
   "outputs": [
    {
     "data": {
      "text/plain": [
       "<AxesSubplot:>"
      ]
     },
     "execution_count": 43,
     "metadata": {},
     "output_type": "execute_result"
    },
    {
     "data": {
      "image/png": "[encoded data removed]",
      "text/plain": [
       "<Figure size 432x288 with 2 Axes>"
      ]
     },
     "metadata": {
      "needs_background": "light"
     },
     "output_type": "display_data"
    }
   ],
   "source": [
    "sns.heatmap(ds1.isnull())"
   ]
  },
  {
   "cell_type": "code",
   "execution_count": 44,
   "id": "5516a1fb",
   "metadata": {},
   "outputs": [],
   "source": [
    "#predict\n",
    "#x=ds1[['MinTemp','MaxTemp','Rainfall','Evaporation','Sunshine','WindGustSpeed','WindSpeed9am','Humidity3pm','Pressure9am','Pressure3pm','Cloud9am','Cloud3pm','Temp9am','Temp3pm','RainToday']].values #iloc[:,:-1].values\n",
    "#y=ds1['RainTomorrow'].values\n",
    "\n",
    "#weather_data.csv\n",
    "x=ds1[['Summary','Precip Type','Temperature (C)','Apparent Temperature (C)','Humidity','Wind Speed (km/h)','Wind Bearing (degrees)','Visibility (km)','Loud Cover','Pressure (millibars)']].values\n",
    "y=ds1['Daily Summary'].values\n",
    "\n",
    "\n",
    "#seattle-weather.csv\n",
    "#x=ds1[['precipitation','temp_max','temp_min','wind']].values \n",
    "#y=ds1['weather'].values"
   ]
  },
  {
   "cell_type": "code",
   "execution_count": 45,
   "id": "a7e5bc46",
   "metadata": {},
   "outputs": [],
   "source": [
    "from sklearn.model_selection import train_test_split\n",
    "x_train,x_test,y_train,y_test=train_test_split(x,y,test_size=0.3)"
   ]
  },
  {
   "cell_type": "code",
   "execution_count": 46,
   "id": "c2db4df2",
   "metadata": {},
   "outputs": [
    {
     "name": "stdout",
     "output_type": "stream",
     "text": [
      "no of rows,column (95864, 10)\n",
      "x_train (67104, 10)\n",
      "x_test (28760, 10)\n",
      "y_train (67104,)\n",
      "y_test (28760,)\n"
     ]
    }
   ],
   "source": [
    "print(\"no of rows,column\",x.shape)\n",
    "print(\"x_train\",x_train.shape)\n",
    "print(\"x_test\",x_test.shape)\n",
    "print(\"y_train\",y_train.shape)\n",
    "print(\"y_test\",y_test.shape)"
   ]
  },
  {
   "cell_type": "code",
   "execution_count": 47,
   "id": "eb2e1c93",
   "metadata": {},
   "outputs": [
    {
     "data": {
      "text/plain": [
       "array([[ 1.00000000e+00,  2.60000000e+01,  1.79777778e+01, ...,\n",
       "         1.10285000e+01,  0.00000000e+00,  1.01543000e+03],\n",
       "       [ 2.00000000e+00,  2.80000000e+01, -7.00000000e+00, ...,\n",
       "         1.42163000e+01,  0.00000000e+00,  1.03680000e+03],\n",
       "       [ 2.00000000e+00,  2.60000000e+01,  1.21777778e+01, ...,\n",
       "         9.98200000e+00,  0.00000000e+00,  1.02174000e+03],\n",
       "       ...,\n",
       "       [ 1.00000000e+00,  2.60000000e+01,  1.32444444e+01, ...,\n",
       "         1.51823000e+01,  0.00000000e+00,  1.02034000e+03],\n",
       "       [ 1.00000000e+00,  2.60000000e+01,  1.71722222e+01, ...,\n",
       "         4.02500000e+00,  0.00000000e+00,  1.01815000e+03],\n",
       "       [ 3.00000000e+00,  2.60000000e+01,  2.22222222e+00, ...,\n",
       "         1.00464000e+01,  0.00000000e+00,  1.03166000e+03]])"
      ]
     },
     "execution_count": 47,
     "metadata": {},
     "output_type": "execute_result"
    }
   ],
   "source": [
    "x_train"
   ]
  },
  {
   "cell_type": "code",
   "execution_count": 48,
   "id": "0d1a3838",
   "metadata": {},
   "outputs": [
    {
     "data": {
      "text/plain": [
       "array([2, 6, 6, ..., 2, 8, 7], dtype=int64)"
      ]
     },
     "execution_count": 48,
     "metadata": {},
     "output_type": "execute_result"
    }
   ],
   "source": [
    "y_train"
   ]
  },
  {
   "cell_type": "code",
   "execution_count": 49,
   "id": "d100cb6a",
   "metadata": {},
   "outputs": [],
   "source": [
    "from sklearn.neighbors import KNeighborsClassifier\n",
    "knn = KNeighborsClassifier()#n_neighbors=5)"
   ]
  },
  {
   "cell_type": "code",
   "execution_count": 50,
   "id": "419ec1fe",
   "metadata": {},
   "outputs": [
    {
     "data": {
      "text/plain": [
       "39.38803894297636"
      ]
     },
     "execution_count": 50,
     "metadata": {},
     "output_type": "execute_result"
    }
   ],
   "source": [
    "knn.fit(x_train,y_train)\n",
    "knn.score(x_test, y_test)*100"
   ]
  },
  {
   "cell_type": "code",
   "execution_count": 51,
   "id": "0ddfa691",
   "metadata": {},
   "outputs": [],
   "source": [
    "y_predict=knn.predict(x_test)"
   ]
  },
  {
   "cell_type": "code",
   "execution_count": 52,
   "id": "ceeb54a9",
   "metadata": {},
   "outputs": [],
   "source": [
    "y_test=y_test.reshape(-1,1)\n",
    "y_pred=y_predict.reshape(-1,1)"
   ]
  },
  {
   "cell_type": "code",
   "execution_count": 53,
   "id": "31b90a36",
   "metadata": {},
   "outputs": [],
   "source": [
    "y_pred=y_predict.reshape(-1,1)\n",
    "df=np.concatenate((y_test,y_pred),axis=1)\n",
    "dataframe=pd.DataFrame(df,columns=['current weather','prediction of weather'])"
   ]
  },
  {
   "cell_type": "code",
   "execution_count": 54,
   "id": "9c0b65a7",
   "metadata": {},
   "outputs": [
    {
     "data": {
      "text/html": [
       "<div>\n",
       "<style scoped>\n",
       "    .dataframe tbody tr th:only-of-type {\n",
       "        vertical-align: middle;\n",
       "    }\n",
       "\n",
       "    .dataframe tbody tr th {\n",
       "        vertical-align: top;\n",
       "    }\n",
       "\n",
       "    .dataframe thead th {\n",
       "        text-align: right;\n",
       "    }\n",
       "</style>\n",
       "<table border=\"1\" class=\"dataframe\">\n",
       "  <thead>\n",
       "    <tr style=\"text-align: right;\">\n",
       "      <th></th>\n",
       "      <th>current weather</th>\n",
       "      <th>prediction of weather</th>\n",
       "    </tr>\n",
       "  </thead>\n",
       "  <tbody>\n",
       "    <tr>\n",
       "      <th>0</th>\n",
       "      <td>1</td>\n",
       "      <td>2</td>\n",
       "    </tr>\n",
       "    <tr>\n",
       "      <th>1</th>\n",
       "      <td>6</td>\n",
       "      <td>1</td>\n",
       "    </tr>\n",
       "    <tr>\n",
       "      <th>2</th>\n",
       "      <td>1</td>\n",
       "      <td>1</td>\n",
       "    </tr>\n",
       "    <tr>\n",
       "      <th>3</th>\n",
       "      <td>5</td>\n",
       "      <td>1</td>\n",
       "    </tr>\n",
       "    <tr>\n",
       "      <th>4</th>\n",
       "      <td>2</td>\n",
       "      <td>2</td>\n",
       "    </tr>\n",
       "    <tr>\n",
       "      <th>...</th>\n",
       "      <td>...</td>\n",
       "      <td>...</td>\n",
       "    </tr>\n",
       "    <tr>\n",
       "      <th>28755</th>\n",
       "      <td>2</td>\n",
       "      <td>2</td>\n",
       "    </tr>\n",
       "    <tr>\n",
       "      <th>28756</th>\n",
       "      <td>1</td>\n",
       "      <td>1</td>\n",
       "    </tr>\n",
       "    <tr>\n",
       "      <th>28757</th>\n",
       "      <td>2</td>\n",
       "      <td>2</td>\n",
       "    </tr>\n",
       "    <tr>\n",
       "      <th>28758</th>\n",
       "      <td>9</td>\n",
       "      <td>1</td>\n",
       "    </tr>\n",
       "    <tr>\n",
       "      <th>28759</th>\n",
       "      <td>1</td>\n",
       "      <td>1</td>\n",
       "    </tr>\n",
       "  </tbody>\n",
       "</table>\n",
       "<p>28760 rows × 2 columns</p>\n",
       "</div>"
      ],
      "text/plain": [
       "       current weather  prediction of weather\n",
       "0                    1                      2\n",
       "1                    6                      1\n",
       "2                    1                      1\n",
       "3                    5                      1\n",
       "4                    2                      2\n",
       "...                ...                    ...\n",
       "28755                2                      2\n",
       "28756                1                      1\n",
       "28757                2                      2\n",
       "28758                9                      1\n",
       "28759                1                      1\n",
       "\n",
       "[28760 rows x 2 columns]"
      ]
     },
     "execution_count": 54,
     "metadata": {},
     "output_type": "execute_result"
    }
   ],
   "source": [
    "dataframe"
   ]
  },
  {
   "cell_type": "code",
   "execution_count": 55,
   "id": "bf9a1d77",
   "metadata": {},
   "outputs": [],
   "source": [
    "from sklearn.metrics import confusion_matrix\n",
    "cm=confusion_matrix(y_test,y_pred)"
   ]
  },
  {
   "cell_type": "code",
   "execution_count": 56,
   "id": "3b3ed35e",
   "metadata": {},
   "outputs": [],
   "source": [
    "cm=confusion_matrix(y_test,y_predict)"
   ]
  },
  {
   "cell_type": "code",
   "execution_count": 57,
   "id": "58de36ad",
   "metadata": {},
   "outputs": [
    {
     "data": {
      "text/plain": [
       "Text(33.0, 0.5, 'true')"
      ]
     },
     "execution_count": 57,
     "metadata": {},
     "output_type": "execute_result"
    },
    {
     "data": {
      "image/png": "[encoded data removed]",
      "text/plain": [
       "<Figure size 432x288 with 2 Axes>"
      ]
     },
     "metadata": {
      "needs_background": "light"
     },
     "output_type": "display_data"
    }
   ],
   "source": [
    "sns.heatmap(cm,annot=True)\n",
    "plt.xlabel(\"predicted\")\n",
    "plt.ylabel(\"true\")"
   ]
  },
  {
   "cell_type": "code",
   "execution_count": 58,
   "id": "45053aba",
   "metadata": {},
   "outputs": [],
   "source": [
    "#from sklearn.svm import SVC\n",
    "from sklearn.model_selection import cross_val_score\n",
    "#clf = SVC(kernel='linear')"
   ]
  },
  {
   "cell_type": "code",
   "execution_count": 59,
   "id": "e71d0ee1",
   "metadata": {},
   "outputs": [],
   "source": [
    "#clf.fit(x_train,y_train)"
   ]
  },
  {
   "cell_type": "code",
   "execution_count": 60,
   "id": "82e60b11",
   "metadata": {},
   "outputs": [],
   "source": [
    "from sklearn.model_selection import KFold"
   ]
  },
  {
   "cell_type": "code",
   "execution_count": 61,
   "id": "567e7092",
   "metadata": {},
   "outputs": [
    {
     "data": {
      "text/plain": [
       "20"
      ]
     },
     "execution_count": 61,
     "metadata": {},
     "output_type": "execute_result"
    }
   ],
   "source": [
    "kf = KFold(n_splits=20)\n",
    "kf.get_n_splits(x)"
   ]
  },
  {
   "cell_type": "code",
   "execution_count": 62,
   "id": "00f4f9fa",
   "metadata": {},
   "outputs": [
    {
     "name": "stdout",
     "output_type": "stream",
     "text": [
      "KFold(n_splits=20, random_state=None, shuffle=False)\n"
     ]
    }
   ],
   "source": [
    "print(kf)"
   ]
  },
  {
   "cell_type": "code",
   "execution_count": 63,
   "id": "38acd705",
   "metadata": {},
   "outputs": [
    {
     "name": "stdout",
     "output_type": "stream",
     "text": [
      "TRAIN: [ 4794  4795  4796 ... 95861 95862 95863] TEST: [   0    1    2 ... 4791 4792 4793]\n",
      "TRAIN: [    0     1     2 ... 95861 95862 95863] TEST: [4794 4795 4796 ... 9585 9586 9587]\n",
      "TRAIN: [    0     1     2 ... 95861 95862 95863] TEST: [ 9588  9589  9590 ... 14379 14380 14381]\n",
      "TRAIN: [    0     1     2 ... 95861 95862 95863] TEST: [14382 14383 14384 ... 19173 19174 19175]\n",
      "TRAIN: [    0     1     2 ... 95861 95862 95863] TEST: [19176 19177 19178 ... 23966 23967 23968]\n",
      "TRAIN: [    0     1     2 ... 95861 95862 95863] TEST: [23969 23970 23971 ... 28759 28760 28761]\n",
      "TRAIN: [    0     1     2 ... 95861 95862 95863] TEST: [28762 28763 28764 ... 33552 33553 33554]\n",
      "TRAIN: [    0     1     2 ... 95861 95862 95863] TEST: [33555 33556 33557 ... 38345 38346 38347]\n",
      "TRAIN: [    0     1     2 ... 95861 95862 95863] TEST: [38348 38349 38350 ... 43138 43139 43140]\n",
      "TRAIN: [    0     1     2 ... 95861 95862 95863] TEST: [43141 43142 43143 ... 47931 47932 47933]\n",
      "TRAIN: [    0     1     2 ... 95861 95862 95863] TEST: [47934 47935 47936 ... 52724 52725 52726]\n",
      "TRAIN: [    0     1     2 ... 95861 95862 95863] TEST: [52727 52728 52729 ... 57517 57518 57519]\n",
      "TRAIN: [    0     1     2 ... 95861 95862 95863] TEST: [57520 57521 57522 ... 62310 62311 62312]\n",
      "TRAIN: [    0     1     2 ... 95861 95862 95863] TEST: [62313 62314 62315 ... 67103 67104 67105]\n",
      "TRAIN: [    0     1     2 ... 95861 95862 95863] TEST: [67106 67107 67108 ... 71896 71897 71898]\n",
      "TRAIN: [    0     1     2 ... 95861 95862 95863] TEST: [71899 71900 71901 ... 76689 76690 76691]\n",
      "TRAIN: [    0     1     2 ... 95861 95862 95863] TEST: [76692 76693 76694 ... 81482 81483 81484]\n",
      "TRAIN: [    0     1     2 ... 95861 95862 95863] TEST: [81485 81486 81487 ... 86275 86276 86277]\n",
      "TRAIN: [    0     1     2 ... 95861 95862 95863] TEST: [86278 86279 86280 ... 91068 91069 91070]\n",
      "TRAIN: [    0     1     2 ... 91068 91069 91070] TEST: [91071 91072 91073 ... 95861 95862 95863]\n"
     ]
    }
   ],
   "source": [
    "for train_index, test_index in kf.split(x):\n",
    "    print(\"TRAIN:\", train_index, \"TEST:\", test_index)\n",
    "    x_train, x_test = x[train_index], x[test_index]\n",
    "    y_train, y_test = y[train_index], y[test_index]"
   ]
  },
  {
   "cell_type": "code",
   "execution_count": 64,
   "id": "4d8208ba",
   "metadata": {},
   "outputs": [],
   "source": [
    "score=cross_val_score(knn,x,y,cv=kf)"
   ]
  },
  {
   "cell_type": "code",
   "execution_count": 65,
   "id": "19d5cd75",
   "metadata": {},
   "outputs": [
    {
     "name": "stdout",
     "output_type": "stream",
     "text": [
      "Cross Validation scores are[0.24864414 0.2288277  0.24947851 0.27909887 0.33590653 0.28541623\n",
      " 0.30586272 0.27122888 0.29897768 0.29063217 0.25871062 0.30210724\n",
      " 0.2985604  0.32881285 0.36490716 0.38597955 0.30774045 0.33215105\n",
      " 0.34300021 0.41435427]\n"
     ]
    }
   ],
   "source": [
    "print(\"Cross Validation scores are{}\".format(score))"
   ]
  },
  {
   "cell_type": "code",
   "execution_count": 66,
   "id": "b4090d58",
   "metadata": {},
   "outputs": [
    {
     "data": {
      "text/plain": [
       "0.3065198617856436"
      ]
     },
     "execution_count": 66,
     "metadata": {},
     "output_type": "execute_result"
    }
   ],
   "source": [
    "Avg=score.mean()\n",
    "Avg"
   ]
  },
  {
   "cell_type": "code",
   "execution_count": null,
   "id": "94720110",
   "metadata": {},
   "outputs": [],
   "source": []
  }
 ],
 "metadata": {
  "kernelspec": {
   "display_name": "Python 3 (ipykernel)",
   "language": "python",
   "name": "python3"
  },
  "language_info": {
   "codemirror_mode": {
    "name": "ipython",
    "version": 3
   },
   "file_extension": ".py",
   "mimetype": "text/x-python",
   "name": "python",
   "nbconvert_exporter": "python",
   "pygments_lexer": "ipython3",
   "version": "3.9.7"
  }
 },
 "nbformat": 4,
 "nbformat_minor": 5
}
