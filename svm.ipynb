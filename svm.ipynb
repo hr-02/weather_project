{
 "cells": [
  {
   "cell_type": "code",
   "execution_count": 1,
   "id": "b620f718",
   "metadata": {},
   "outputs": [],
   "source": [
    "import pandas as pd\n",
    "import numpy as np\n",
    "import seaborn as sns\n",
    "import matplotlib.pyplot as plt"
   ]
  },
  {
   "cell_type": "code",
   "execution_count": 2,
   "id": "020a3893",
   "metadata": {},
   "outputs": [],
   "source": [
    "ds=pd.read_csv('weather_data.csv')"
   ]
  },
  {
   "cell_type": "code",
   "execution_count": 3,
   "id": "77ebbb65",
   "metadata": {},
   "outputs": [
    {
     "data": {
      "text/html": [
       "<div>\n",
       "<style scoped>\n",
       "    .dataframe tbody tr th:only-of-type {\n",
       "        vertical-align: middle;\n",
       "    }\n",
       "\n",
       "    .dataframe tbody tr th {\n",
       "        vertical-align: top;\n",
       "    }\n",
       "\n",
       "    .dataframe thead th {\n",
       "        text-align: right;\n",
       "    }\n",
       "</style>\n",
       "<table border=\"1\" class=\"dataframe\">\n",
       "  <thead>\n",
       "    <tr style=\"text-align: right;\">\n",
       "      <th></th>\n",
       "      <th>Formatted Date</th>\n",
       "      <th>Summary</th>\n",
       "      <th>Precip Type</th>\n",
       "      <th>Temperature (C)</th>\n",
       "      <th>Apparent Temperature (C)</th>\n",
       "      <th>Humidity</th>\n",
       "      <th>Wind Speed (km/h)</th>\n",
       "      <th>Wind Bearing (degrees)</th>\n",
       "      <th>Visibility (km)</th>\n",
       "      <th>Loud Cover</th>\n",
       "      <th>Pressure (millibars)</th>\n",
       "      <th>Daily Summary</th>\n",
       "    </tr>\n",
       "  </thead>\n",
       "  <tbody>\n",
       "    <tr>\n",
       "      <th>0</th>\n",
       "      <td>2006-04-01 00:00:00.000 +0200</td>\n",
       "      <td>1</td>\n",
       "      <td>26.0</td>\n",
       "      <td>9.472222</td>\n",
       "      <td>7.388889</td>\n",
       "      <td>0.89</td>\n",
       "      <td>14.1197</td>\n",
       "      <td>251</td>\n",
       "      <td>15.8263</td>\n",
       "      <td>0</td>\n",
       "      <td>1015.13</td>\n",
       "      <td>1</td>\n",
       "    </tr>\n",
       "    <tr>\n",
       "      <th>1</th>\n",
       "      <td>2006-04-01 01:00:00.000 +0200</td>\n",
       "      <td>1</td>\n",
       "      <td>26.0</td>\n",
       "      <td>9.355556</td>\n",
       "      <td>7.227778</td>\n",
       "      <td>0.86</td>\n",
       "      <td>14.2646</td>\n",
       "      <td>259</td>\n",
       "      <td>15.8263</td>\n",
       "      <td>0</td>\n",
       "      <td>1015.63</td>\n",
       "      <td>1</td>\n",
       "    </tr>\n",
       "    <tr>\n",
       "      <th>2</th>\n",
       "      <td>2006-04-01 02:00:00.000 +0200</td>\n",
       "      <td>2</td>\n",
       "      <td>26.0</td>\n",
       "      <td>9.377778</td>\n",
       "      <td>9.377778</td>\n",
       "      <td>0.89</td>\n",
       "      <td>3.9284</td>\n",
       "      <td>204</td>\n",
       "      <td>14.9569</td>\n",
       "      <td>0</td>\n",
       "      <td>1015.94</td>\n",
       "      <td>1</td>\n",
       "    </tr>\n",
       "    <tr>\n",
       "      <th>3</th>\n",
       "      <td>2006-04-01 03:00:00.000 +0200</td>\n",
       "      <td>1</td>\n",
       "      <td>26.0</td>\n",
       "      <td>8.288889</td>\n",
       "      <td>5.944444</td>\n",
       "      <td>0.83</td>\n",
       "      <td>14.1036</td>\n",
       "      <td>269</td>\n",
       "      <td>15.8263</td>\n",
       "      <td>0</td>\n",
       "      <td>1016.41</td>\n",
       "      <td>1</td>\n",
       "    </tr>\n",
       "    <tr>\n",
       "      <th>4</th>\n",
       "      <td>2006-04-01 04:00:00.000 +0200</td>\n",
       "      <td>2</td>\n",
       "      <td>26.0</td>\n",
       "      <td>8.755556</td>\n",
       "      <td>6.977778</td>\n",
       "      <td>0.83</td>\n",
       "      <td>11.0446</td>\n",
       "      <td>259</td>\n",
       "      <td>15.8263</td>\n",
       "      <td>0</td>\n",
       "      <td>1016.51</td>\n",
       "      <td>1</td>\n",
       "    </tr>\n",
       "    <tr>\n",
       "      <th>...</th>\n",
       "      <td>...</td>\n",
       "      <td>...</td>\n",
       "      <td>...</td>\n",
       "      <td>...</td>\n",
       "      <td>...</td>\n",
       "      <td>...</td>\n",
       "      <td>...</td>\n",
       "      <td>...</td>\n",
       "      <td>...</td>\n",
       "      <td>...</td>\n",
       "      <td>...</td>\n",
       "      <td>...</td>\n",
       "    </tr>\n",
       "    <tr>\n",
       "      <th>96376</th>\n",
       "      <td>2016-09-09 19:00:00.000 +0200</td>\n",
       "      <td>1</td>\n",
       "      <td>26.0</td>\n",
       "      <td>26.016667</td>\n",
       "      <td>26.016667</td>\n",
       "      <td>0.43</td>\n",
       "      <td>10.9963</td>\n",
       "      <td>31</td>\n",
       "      <td>16.1000</td>\n",
       "      <td>0</td>\n",
       "      <td>1014.36</td>\n",
       "      <td>1</td>\n",
       "    </tr>\n",
       "    <tr>\n",
       "      <th>96377</th>\n",
       "      <td>2016-09-09 20:00:00.000 +0200</td>\n",
       "      <td>1</td>\n",
       "      <td>26.0</td>\n",
       "      <td>24.583333</td>\n",
       "      <td>24.583333</td>\n",
       "      <td>0.48</td>\n",
       "      <td>10.0947</td>\n",
       "      <td>20</td>\n",
       "      <td>15.5526</td>\n",
       "      <td>0</td>\n",
       "      <td>1015.16</td>\n",
       "      <td>1</td>\n",
       "    </tr>\n",
       "    <tr>\n",
       "      <th>96378</th>\n",
       "      <td>2016-09-09 21:00:00.000 +0200</td>\n",
       "      <td>1</td>\n",
       "      <td>26.0</td>\n",
       "      <td>22.038889</td>\n",
       "      <td>22.038889</td>\n",
       "      <td>0.56</td>\n",
       "      <td>8.9838</td>\n",
       "      <td>30</td>\n",
       "      <td>16.1000</td>\n",
       "      <td>0</td>\n",
       "      <td>1015.66</td>\n",
       "      <td>1</td>\n",
       "    </tr>\n",
       "    <tr>\n",
       "      <th>96379</th>\n",
       "      <td>2016-09-09 22:00:00.000 +0200</td>\n",
       "      <td>1</td>\n",
       "      <td>26.0</td>\n",
       "      <td>21.522222</td>\n",
       "      <td>21.522222</td>\n",
       "      <td>0.60</td>\n",
       "      <td>10.5294</td>\n",
       "      <td>20</td>\n",
       "      <td>16.1000</td>\n",
       "      <td>0</td>\n",
       "      <td>1015.95</td>\n",
       "      <td>1</td>\n",
       "    </tr>\n",
       "    <tr>\n",
       "      <th>96380</th>\n",
       "      <td>2016-09-09 23:00:00.000 +0200</td>\n",
       "      <td>1</td>\n",
       "      <td>26.0</td>\n",
       "      <td>20.438889</td>\n",
       "      <td>20.438889</td>\n",
       "      <td>0.61</td>\n",
       "      <td>5.8765</td>\n",
       "      <td>39</td>\n",
       "      <td>15.5204</td>\n",
       "      <td>0</td>\n",
       "      <td>1016.16</td>\n",
       "      <td>1</td>\n",
       "    </tr>\n",
       "  </tbody>\n",
       "</table>\n",
       "<p>96381 rows × 12 columns</p>\n",
       "</div>"
      ],
      "text/plain": [
       "                      Formatted Date  Summary  Precip Type  Temperature (C)  \\\n",
       "0      2006-04-01 00:00:00.000 +0200        1         26.0         9.472222   \n",
       "1      2006-04-01 01:00:00.000 +0200        1         26.0         9.355556   \n",
       "2      2006-04-01 02:00:00.000 +0200        2         26.0         9.377778   \n",
       "3      2006-04-01 03:00:00.000 +0200        1         26.0         8.288889   \n",
       "4      2006-04-01 04:00:00.000 +0200        2         26.0         8.755556   \n",
       "...                              ...      ...          ...              ...   \n",
       "96376  2016-09-09 19:00:00.000 +0200        1         26.0        26.016667   \n",
       "96377  2016-09-09 20:00:00.000 +0200        1         26.0        24.583333   \n",
       "96378  2016-09-09 21:00:00.000 +0200        1         26.0        22.038889   \n",
       "96379  2016-09-09 22:00:00.000 +0200        1         26.0        21.522222   \n",
       "96380  2016-09-09 23:00:00.000 +0200        1         26.0        20.438889   \n",
       "\n",
       "       Apparent Temperature (C)  Humidity  Wind Speed (km/h)  \\\n",
       "0                      7.388889      0.89            14.1197   \n",
       "1                      7.227778      0.86            14.2646   \n",
       "2                      9.377778      0.89             3.9284   \n",
       "3                      5.944444      0.83            14.1036   \n",
       "4                      6.977778      0.83            11.0446   \n",
       "...                         ...       ...                ...   \n",
       "96376                 26.016667      0.43            10.9963   \n",
       "96377                 24.583333      0.48            10.0947   \n",
       "96378                 22.038889      0.56             8.9838   \n",
       "96379                 21.522222      0.60            10.5294   \n",
       "96380                 20.438889      0.61             5.8765   \n",
       "\n",
       "       Wind Bearing (degrees)  Visibility (km)  Loud Cover  \\\n",
       "0                         251          15.8263           0   \n",
       "1                         259          15.8263           0   \n",
       "2                         204          14.9569           0   \n",
       "3                         269          15.8263           0   \n",
       "4                         259          15.8263           0   \n",
       "...                       ...              ...         ...   \n",
       "96376                      31          16.1000           0   \n",
       "96377                      20          15.5526           0   \n",
       "96378                      30          16.1000           0   \n",
       "96379                      20          16.1000           0   \n",
       "96380                      39          15.5204           0   \n",
       "\n",
       "       Pressure (millibars)  Daily Summary  \n",
       "0                   1015.13              1  \n",
       "1                   1015.63              1  \n",
       "2                   1015.94              1  \n",
       "3                   1016.41              1  \n",
       "4                   1016.51              1  \n",
       "...                     ...            ...  \n",
       "96376               1014.36              1  \n",
       "96377               1015.16              1  \n",
       "96378               1015.66              1  \n",
       "96379               1015.95              1  \n",
       "96380               1016.16              1  \n",
       "\n",
       "[96381 rows x 12 columns]"
      ]
     },
     "execution_count": 3,
     "metadata": {},
     "output_type": "execute_result"
    }
   ],
   "source": [
    "ds"
   ]
  },
  {
   "cell_type": "code",
   "execution_count": 4,
   "id": "fbd5be43",
   "metadata": {},
   "outputs": [
    {
     "data": {
      "text/plain": [
       "<AxesSubplot:>"
      ]
     },
     "execution_count": 4,
     "metadata": {},
     "output_type": "execute_result"
    },
    {
     "data": {
      "image/png": "[encoded data removed]",
      "text/plain": [
       "<Figure size 432x288 with 2 Axes>"
      ]
     },
     "metadata": {
      "needs_background": "light"
     },
     "output_type": "display_data"
    }
   ],
   "source": [
    "sns.heatmap(ds.isnull())\n"
   ]
  },
  {
   "cell_type": "code",
   "execution_count": 5,
   "id": "2208dadf",
   "metadata": {},
   "outputs": [
    {
     "data": {
      "text/plain": [
       "<AxesSubplot:>"
      ]
     },
     "execution_count": 5,
     "metadata": {},
     "output_type": "execute_result"
    },
    {
     "data": {
      "image/png": "[encoded data removed]",
      "text/plain": [
       "<Figure size 432x288 with 2 Axes>"
      ]
     },
     "metadata": {
      "needs_background": "light"
     },
     "output_type": "display_data"
    }
   ],
   "source": [
    "ds1=ds.dropna()\n",
    "sns.heatmap(ds1.isnull())"
   ]
  },
  {
   "cell_type": "code",
   "execution_count": 6,
   "id": "89cb128e",
   "metadata": {},
   "outputs": [],
   "source": [
    "#predict\n",
    "#x=ds1[['MinTemp','MaxTemp','Rainfall','Evaporation','Sunshine','WindGustSpeed','WindSpeed9am','Humidity3pm','Pressure9am','Pressure3pm','Cloud9am','Cloud3pm','Temp9am','Temp3pm','RainToday']].values #iloc[:,:-1].values\n",
    "#y=ds1[['RainTomorrow']].values\n",
    "\n",
    "#weather_data.csv\n",
    "x=ds1[['Summary','Precip Type','Temperature (C)','Apparent Temperature (C)','Humidity','Wind Speed (km/h)','Wind Bearing (degrees)','Visibility (km)','Loud Cover','Pressure (millibars)']].values\n",
    "y=ds1[['Daily Summary']].values\n",
    "\n",
    "\n",
    "#seattle-weather.csv\n",
    "#x=ds1[['precipitation','temp_max','temp_min','wind']].values \n",
    "#y=ds1[['weather']].values"
   ]
  },
  {
   "cell_type": "code",
   "execution_count": 7,
   "id": "3165bc54",
   "metadata": {},
   "outputs": [],
   "source": [
    "from sklearn.model_selection import train_test_split\n",
    "#from sklearn import datasets\n",
    "#from sklearn.multiclass import OneVsRestClassifier\n",
    "#from sklearn.svm import LinearSVC\n",
    "\n",
    "x_train,x_test,y_train,y_test=train_test_split(x,y,test_size=0.3)"
   ]
  },
  {
   "cell_type": "code",
   "execution_count": 8,
   "id": "e7700947",
   "metadata": {},
   "outputs": [
    {
     "name": "stdout",
     "output_type": "stream",
     "text": [
      "no of rows,column (95864, 10)\n",
      "x_train (67104, 10)\n",
      "x_test (28760, 10)\n",
      "y_train (67104, 1)\n",
      "y_test (28760, 1)\n"
     ]
    }
   ],
   "source": [
    "print(\"no of rows,column\",x.shape)\n",
    "print(\"x_train\",x_train.shape)\n",
    "print(\"x_test\",x_test.shape)\n",
    "print(\"y_train\",y_train.shape)\n",
    "print(\"y_test\",y_test.shape)"
   ]
  },
  {
   "cell_type": "code",
   "execution_count": 9,
   "id": "9e5d60e6",
   "metadata": {},
   "outputs": [],
   "source": [
    "from sklearn.svm import SVC\n",
    "classifier= SVC(kernel='linear')"
   ]
  },
  {
   "cell_type": "code",
   "execution_count": null,
   "id": "371355e0",
   "metadata": {},
   "outputs": [
    {
     "name": "stderr",
     "output_type": "stream",
     "text": [
      "E:\\SOFTWARE\\anaconda\\lib\\site-packages\\sklearn\\utils\\validation.py:63: DataConversionWarning: A column-vector y was passed when a 1d array was expected. Please change the shape of y to (n_samples, ), for example using ravel().\n",
      "  return f(*args, **kwargs)\n"
     ]
    }
   ],
   "source": [
    "classifier.fit(x_train,y_train)"
   ]
  },
  {
   "cell_type": "code",
   "execution_count": null,
   "id": "e0ea16cf",
   "metadata": {},
   "outputs": [],
   "source": [
    "classifier.score(x_test, y_test)*100"
   ]
  },
  {
   "cell_type": "code",
   "execution_count": null,
   "id": "4bbcaf7f",
   "metadata": {},
   "outputs": [],
   "source": [
    "y_predict=classifier.predict(x_test)"
   ]
  },
  {
   "cell_type": "code",
   "execution_count": null,
   "id": "01248cf1",
   "metadata": {},
   "outputs": [],
   "source": [
    "y_test=y_test.reshape(-1,1)\n",
    "y_pred=y_predict.reshape(-1,1)\n"
   ]
  },
  {
   "cell_type": "code",
   "execution_count": null,
   "id": "45de8adb",
   "metadata": {},
   "outputs": [],
   "source": [
    "df=np.concatenate((y_test,y_pred),axis=1)\n",
    "dataframe=pd.DataFrame(df,columns=['current weather','prediction of weather'])\n"
   ]
  },
  {
   "cell_type": "code",
   "execution_count": null,
   "id": "eb7a49ae",
   "metadata": {},
   "outputs": [],
   "source": [
    "dataframe"
   ]
  },
  {
   "cell_type": "code",
   "execution_count": null,
   "id": "d21e3525",
   "metadata": {},
   "outputs": [],
   "source": [
    "from sklearn.metrics import confusion_matrix\n",
    "cm=confusion_matrix(y_test,y_pred)"
   ]
  },
  {
   "cell_type": "code",
   "execution_count": null,
   "id": "dbf73370",
   "metadata": {},
   "outputs": [],
   "source": [
    "cm=confusion_matrix(y_test,y_predict)\n"
   ]
  },
  {
   "cell_type": "code",
   "execution_count": null,
   "id": "2bb64b49",
   "metadata": {},
   "outputs": [],
   "source": [
    "sns.heatmap(cm,annot=True)\n",
    "plt.xlabel(\"predicted\")\n",
    "plt.ylabel(\"true\")"
   ]
  },
  {
   "cell_type": "code",
   "execution_count": null,
   "id": "1eb18577",
   "metadata": {},
   "outputs": [],
   "source": []
  },
  {
   "cell_type": "code",
   "execution_count": null,
   "id": "37b1b5e5",
   "metadata": {},
   "outputs": [],
   "source": []
  }
 ],
 "metadata": {
  "kernelspec": {
   "display_name": "Python 3 (ipykernel)",
   "language": "python",
   "name": "python3"
  },
  "language_info": {
   "codemirror_mode": {
    "name": "ipython",
    "version": 3
   },
   "file_extension": ".py",
   "mimetype": "text/x-python",
   "name": "python",
   "nbconvert_exporter": "python",
   "pygments_lexer": "ipython3",
   "version": "3.9.7"
  }
 },
 "nbformat": 4,
 "nbformat_minor": 5
}
